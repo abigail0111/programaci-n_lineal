{
 "cells": [
  {
   "cell_type": "markdown",
   "metadata": {},
   "source": [
    "1.  Resuelve el siguiente problema:\n",
    "    \n",
    "    \\begin{equation*}\n",
    "    \\begin{aligned}\n",
    "    \\text{Maximizar} \\quad & 2x+y\\\\\n",
    "    \\text{sujeto a} \\quad &\n",
    "      \\begin{aligned}\n",
    "       4x+y &\\leq 150\\\\\n",
    "       2x-3y &\\leq -40\\\\\n",
    "       x &\\geq  0\\\\\n",
    "       y &\\geq 0\n",
    "      \\end{aligned}\n",
    "    \\end{aligned}\n",
    "    \\end{equation*}\n",
    "\n",
    "Veremos cómo se resulve este problema uando la biblioteca `pulp` de Python.\n",
    "\n"
   ]
  },
  {
   "cell_type": "code",
   "execution_count": 1,
   "metadata": {},
   "outputs": [],
   "source": [
    "from pulp import *\n",
    "\n",
    "x = LpVariable(\"x\",0)\n",
    "y = LpVariable(\"y\",0)\n",
    "prob = LpProblem(\"Problema1\",LpMaximize)\n",
    "prob +=4* x + y <= 150\n",
    "prob += 2*x - 3*y <= -40\n",
    "prob += 2*x + y\n",
    "prob\n",
    "status = prob.solve()\n",
    "value(x),value(y), value(prob.objective)"
   ]
  },
  {
   "cell_type": "markdown",
   "metadata": {},
   "source": [
    "1.  Resuelve el siguiente problema:\n",
    "    \n",
    "    \\begin{equation*}\n",
    "     \\begin{aligned}\n",
    "    \\text{Maximizar} \\quad & 4x_{1}+2x_{2}\\\\\n",
    "    \\text{sujeto a} \\quad &\n",
    "      \\begin{aligned}\n",
    "       -2x_{1}+x_{2} &\\leq 4\\\\\n",
    "       x_{1}+2x_{2} &\\geq 2\\\\\n",
    "        x_{1} &\\geq 0\\\\\n",
    "        x_{2} &\\geq 0\n",
    "      \\end{aligned}\n",
    "    \\end{aligned}\n",
    "    \\end{equation*}\n",
    "\n"
   ]
  },
  {
   "cell_type": "code",
   "execution_count": 1,
   "metadata": {},
   "outputs": [],
   "source": [
    "from pulp import *\n",
    "\n",
    "x = LpVariable(\"x\",0)\n",
    "y = LpVariable(\"y\",0)\n",
    "prob = LpProblem(\"Problema2\",LpMaximize)\n",
    "prob +=-2* x + y <= 4\n",
    "prob += x + 2*y >= 2\n",
    "prob += 4*x + 2*y\n",
    "prob\n",
    "status = prob.solve()\n",
    "value(x),value(y), value(prob.objective)"
   ]
  },
  {
   "cell_type": "markdown",
   "metadata": {},
   "source": [
    "1.  Resuelve el siguiente problema:\n",
    "    \n",
    "    \\begin{equation*}\n",
    "     \\begin{aligned}\n",
    "    \\text{Maximizar} \\quad & 5x_{1}+4x_{2}+3x_{3}\\\\\n",
    "    \\text{sujeto a} \\quad &\n",
    "      \\begin{aligned}\n",
    "       2x_{1}+3x_{2}+x_{3} &\\leq 5\\\\\n",
    "       4x_{1}+x_{2}+2x_{3} &\\leq 11\\\\\n",
    "       3x_{1}+4x_{2}+2x_{3} &\\leq 8\\\\\n",
    "        x_{1},x_{2},x_{3} &\\geq 0\n",
    "      \\end{aligned}\n",
    "    \\end{aligned}\n",
    "    \\end{equation*}\n",
    "\n"
   ]
  },
  {
   "cell_type": "code",
   "execution_count": 1,
   "metadata": {},
   "outputs": [],
   "source": [
    "from pulp import *\n",
    "\n",
    "x = LpVariable(\"x\",0)\n",
    "y = LpVariable(\"y\",0)\n",
    "z = LpVariable(\"z\",0)\n",
    "prob = LpProblem(\"Problema3\",LpMaximize)\n",
    "prob += 2*x + 3*y + z <= 5\n",
    "prob += 4*x + y + 2*z <= 11\n",
    "prob += 3*x + 4*y + 2*z <= 8\n",
    "prob += 5*x + 4*y + 3*z\n",
    "prob\n",
    "status = prob.solve()\n",
    "value(x),value(y), value(z),  value(prob.objective)"
   ]
  },
  {
   "cell_type": "markdown",
   "metadata": {},
   "source": [
    "1.  Considera el subconjunto convexo $P$ de $\\mathbb{R}^{2}$\n",
    "    determinado por las desigualdades:\n",
    "    \n",
    "    \\begin{equation}\n",
    "       \\label{uno}\n",
    "      \\begin{split}\n",
    "       x+2y &\\leq 4\\\\\n",
    "        x,y &\\geq 0\n",
    "      \\end{split}\n",
    "    \\end{equation}\n",
    "    \n",
    "    -   Para cada vértice $v$ de $P$, encuentra un vector $c$ tal\n",
    "        que el problema de maximizar $f(x)=c^{T}x$ en la región $P$\n",
    "        encuentre su única solución en $v$.\n",
    "    -   Encuentra todas las soluciones factibles básicas de la forma\n",
    "        estándar de un problema de programación lineal determinado\n",
    "        por \\eqref{uno}.\n",
    "    -   Si $P'\\subseteq \\mathbb{R}^{3}$ es la región factible de un\n",
    "        problema de programación lineal determinado por \\eqref{uno}, para\n",
    "        cada vértice $v$ de $P'$, encuentra un vector $c$ tal que\n",
    "        el problema de maximizar $f(x)=c^{T}x$ en la región $P'$\n",
    "        encuentre su única solución en $v$.\n",
    "2.  Un fabricante produce dos tipos de ropa: $T_{1}$ y\n",
    "    $T_{2}$. Para producir una unidad de $T_{1}$ se necesitan 4\n",
    "    unidades de la materia prima $R1$, 5 unidaes de materia prima\n",
    "    $R2$ y una unidad de la materia prima $R3$. Para producir una\n",
    "    unidad de $T_{2}$ los requerimientos, en el mismo orden, son 1, 3\n",
    "    y 2 unidades, respectivamente. Las cantidades disponibles de $R1,\n",
    "          R2$ y $R3$ son: 56, 105 y 56, respectivamente.\n",
    "    \n",
    "    Si la ganancia de la venta de una unidad de $T_{1}$ es de \\\\$$4\\$ y la\n",
    "    de una unidad de $T_{2}$ es \\\\$$5\\$, ¿cuánto se debe producir de\n",
    "    $T_{1}$ y $T_{2}$ para maximizar las ganancias?\n",
    "\n",
    "1.  Una compañía que produce frutas mezcladas tiene en almacén 10,000\n",
    "    kilos de peras, 12,000 kilos de duraznos y 8,000 kilos de\n",
    "    cerezas. La compañía produce tres mezclas de frutas, que vende en\n",
    "    latas de un kilo. La primera combinación contiene la mitad de peras\n",
    "    y la mitad de duraznos. La segunda combinación contiene cantidades\n",
    "    iguales de cada fruta. La tercera combinación tiene la mitad de\n",
    "    duraznos y la mitad de cerezas. Las ganancias por lata vendida por\n",
    "    cada combinación son de $3, $4 y $5 respectivamente. ¿Cuántas\n",
    "    latas de cada combinación deberán producirse con el objeto de\n",
    "    maximizar ganancias? ¿Cuál es la ganancia máxima?\n",
    "\n"
   ]
  }
 ],
 "metadata": {
  "kernelspec": {
   "display_name": "Python 3",
   "language": "python",
   "name": "python3"
  },
  "language_info": {
   "codemirror_mode": {
    "name": "ipython",
    "version": 3
   },
   "file_extension": ".py",
   "mimetype": "text/x-python",
   "name": "python",
   "nbconvert_exporter": "python",
   "pygments_lexer": "ipython3",
   "version": "3.7.0"
  },
  "org": null
 },
 "nbformat": 4,
 "nbformat_minor": 1
}
